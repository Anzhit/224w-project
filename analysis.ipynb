{
 "cells": [
  {
   "cell_type": "code",
   "execution_count": 17,
   "metadata": {},
   "outputs": [
    {
     "name": "stdout",
     "output_type": "stream",
     "text": [
      "1767162 4444600\n",
      "216966 1852847\n"
     ]
    },
    {
     "ename": "AttributeError",
     "evalue": "'PNGraph' object has no attribute 'SaveEdgeList'",
     "output_type": "error",
     "traceback": [
      "\u001b[0;31m---------------------------------------------------------------------------\u001b[0m",
      "\u001b[0;31mAttributeError\u001b[0m                            Traceback (most recent call last)",
      "\u001b[0;32m<ipython-input-17-9081d9b8fbd4>\u001b[0m in \u001b[0;36m<module>\u001b[0;34m()\u001b[0m\n\u001b[1;32m      6\u001b[0m \u001b[0msnap\u001b[0m\u001b[0;34m.\u001b[0m\u001b[0mPlotInDegDistr\u001b[0m\u001b[0;34m(\u001b[0m\u001b[0mgraph\u001b[0m\u001b[0;34m,\u001b[0m \u001b[0;34m\"example\"\u001b[0m\u001b[0;34m,\u001b[0m \u001b[0;34m\"Directed graph - in-degree Distribution\"\u001b[0m\u001b[0;34m)\u001b[0m\u001b[0;34m\u001b[0m\u001b[0m\n\u001b[1;32m      7\u001b[0m \u001b[0msnap\u001b[0m\u001b[0;34m.\u001b[0m\u001b[0mPlotOutDegDistr\u001b[0m\u001b[0;34m(\u001b[0m\u001b[0mgraph\u001b[0m\u001b[0;34m,\u001b[0m \u001b[0;34m\"example\"\u001b[0m\u001b[0;34m,\u001b[0m \u001b[0;34m\"Directed graph - out-degree Distribution\"\u001b[0m\u001b[0;34m)\u001b[0m\u001b[0;34m\u001b[0m\u001b[0m\n\u001b[0;32m----> 8\u001b[0;31m \u001b[0mgraph\u001b[0m\u001b[0;34m.\u001b[0m\u001b[0mSaveEdgeList\u001b[0m\u001b[0;34m(\u001b[0m\u001b[0;34m'sccedges.txt'\u001b[0m\u001b[0;34m,\u001b[0m \u001b[0;36m0\u001b[0m\u001b[0;34m,\u001b[0m \u001b[0;36m1\u001b[0m\u001b[0;34m)\u001b[0m\u001b[0;34m\u001b[0m\u001b[0m\n\u001b[0m",
      "\u001b[0;31mAttributeError\u001b[0m: 'PNGraph' object has no attribute 'SaveEdgeList'"
     ]
    }
   ],
   "source": [
    "import snap\n",
    "graph = snap.LoadEdgeList(snap.PNGraph, 'newedges.txt', 0, 1)\n",
    "print graph.GetNodes(), graph.GetEdges()\n",
    "graph = snap.GetMxScc(graph)\n",
    "print graph.GetNodes(), graph.GetEdges()\n",
    "snap.PlotInDegDistr(graph, \"example\", \"Directed graph - in-degree Distribution\")\n",
    "snap.PlotOutDegDistr(graph, \"example\", \"Directed graph - out-degree Distribution\")\n",
    "snap.SaveEdgeList(graph, 'sccedges.txt')"
   ]
  }
 ],
 "metadata": {
  "kernelspec": {
   "display_name": "Python 2",
   "language": "python",
   "name": "python2"
  },
  "language_info": {
   "codemirror_mode": {
    "name": "ipython",
    "version": 2
   },
   "file_extension": ".py",
   "mimetype": "text/x-python",
   "name": "python",
   "nbconvert_exporter": "python",
   "pygments_lexer": "ipython2",
   "version": "2.7.12"
  }
 },
 "nbformat": 4,
 "nbformat_minor": 2
}
