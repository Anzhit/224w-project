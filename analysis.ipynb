{
 "cells": [
  {
   "cell_type": "code",
   "execution_count": 12,
   "metadata": {},
   "outputs": [
    {
     "name": "stdout",
     "output_type": "stream",
     "text": [
      "216966 1852847\n"
     ]
    }
   ],
   "source": [
    "import snap\n",
    "graph = snap.LoadEdgeList(snap.PNGraph, 'newedges.txt', 0, 1)\n",
    "print graph.GetNodes(), graph.GetEdges()\n",
    "graph = snap.GetMxScc(graph)\n",
    "print graph.GetNodes(), graph.GetEdges()\n",
    "snap.PlotInDegDistr(graph, \"example\", \"Directed graph - in-degree Distribution\")\n",
    "snap.PlotOutDegDistr(graph, \"example\", \"Directed graph - out-degree Distribution\")"
   ]
  }
 ],
 "metadata": {
  "kernelspec": {
   "display_name": "Python 2",
   "language": "python",
   "name": "python2"
  },
  "language_info": {
   "codemirror_mode": {
    "name": "ipython",
    "version": 2
   },
   "file_extension": ".py",
   "mimetype": "text/x-python",
   "name": "python",
   "nbconvert_exporter": "python",
   "pygments_lexer": "ipython2",
   "version": "2.7.12"
  }
 },
 "nbformat": 4,
 "nbformat_minor": 2
}
