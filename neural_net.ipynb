{
 "cells": [
  {
   "cell_type": "code",
   "execution_count": null,
   "metadata": {
    "collapsed": true
   },
   "outputs": [],
   "source": [
    "import tflearn\n",
    "import numpy as np\n",
    "from tflearn.layers.normalization import batch_normalization as batchnorm\n",
    "from sklearn.preprocessing import normalize\n",
    "data_train = np.load('data_train.npy')\n",
    "data_train = np.random.permutation(data_train)\n",
    "X_train = normalize(data_train[:,:len(data_train[0])-2])\n",
    "Y_train = data_train[:, len(data_train[0])-2:]"
   ]
  },
  {
   "cell_type": "code",
   "execution_count": null,
   "metadata": {},
   "outputs": [],
   "source": [
    "width0 = len(X_train[0])\n",
    "width1 = int(2*width0)\n",
    "width2 = int(width0/2)\n",
    "\n",
    "net = tflearn.input_data(shape=[None, width0])\n",
    "net = tflearn.fully_connected(batchnorm(net), width1, activation='relu')\n",
    "net = tflearn.fully_connected(batchnorm(net), width2, activation='relu')\n",
    "net = tflearn.fully_connected(net, 2, activation='softmax')\n",
    "net    = tflearn.regression(net)\n",
    "\n",
    "model = tflearn.DNN(net)\n",
    "model.fit(X_train, Y_train, n_epoch=10, batch_size=64, show_metric=True)"
   ]
  },
  {
   "cell_type": "code",
   "execution_count": null,
   "metadata": {},
   "outputs": [],
   "source": [
    "# data_test = np.load('data_test.npy')\n",
    "data_test = np.load('weird.npy')\n",
    "X_test = normalize(data_test[:,:len(data_test[0])-2])\n",
    "Y_test = data_test[:, len(data_test[0])-2:]\n",
    "\n",
    "\n",
    "print(model.evaluate(X_train, Y_train))\n",
    "print(model.evaluate(X_test, Y_test))"
   ]
  },
  {
   "cell_type": "code",
   "execution_count": null,
   "metadata": {
    "collapsed": true
   },
   "outputs": [],
   "source": [
    "y_train = []\n",
    "for i in range(len(Y_train)):\n",
    "    y_train += [Y_train[i][1]]\n",
    "\n",
    "from sklearn.linear_model import LogisticRegression\n",
    "skmodel = LogisticRegression()\n",
    "skmodel.fit(X_train, y_train)\n",
    "print(skmodel.score(X_train, y_train))"
   ]
  },
  {
   "cell_type": "code",
   "execution_count": null,
   "metadata": {
    "collapsed": true
   },
   "outputs": [],
   "source": [
    "data_test = np.load('data_test.npy')\n",
    "X_test = data_test[:,:len(data_test[0])-2]\n",
    "from sklearn.preprocessing import Normalizer\n",
    "n = Normalizer()\n",
    "n.fit(X_test)\n",
    "\n",
    "f = open(\"vec.emd\",\"r\")\n",
    "x=f.readline()\n",
    "numNodes=int(x.split()[0])\n",
    "\n",
    "node2vec = {}\n",
    "for _ in range(numNodes):\n",
    "    t=f.readline().split()\n",
    "    node2vec[int(t[0])]=np.array(list(map(float,t[1:])))\n",
    "    \n",
    "import pickle\n",
    "f = open('neighbor_data.pkl', 'rb')\n",
    "l = pickle.load(f, encoding='latin1')\n",
    "from scipy.spatial.distance import cosine\n",
    "import numpy as np\n",
    "it = 0\n",
    "results = []\n",
    "lengths = []\n",
    "intersections = []\n",
    "\n",
    "X_unnormalized = []\n",
    "for x in l:\n",
    "    myvec, truei, truevec, lshi, lshvec = x\n",
    "    lshi = list(lshi)\n",
    "    lshi.sort()\n",
    "    lshvec = [node2vec[i] for i in lshi]\n",
    "    for i in range(len(lshi)):\n",
    "        cos = cosine(myvec, lshvec[i])\n",
    "        diff = np.array(myvec)-np.array(lshvec[i])\n",
    "#         X = diff\n",
    "        X = np.append(diff, cos)\n",
    "        X_unnormalized += [X]\n",
    "\n",
    "# X_normalized = normalize(X_unnormalized)\n",
    "X_normalized = n.transform(X_unnormalized)\n",
    "pred = model.predict_label(X_normalized)\n",
    "j = 0\n",
    "for x in l:\n",
    "    myvec, truei, truevec, lshi, lshvec = x\n",
    "    lshi = list(lshi)\n",
    "    lshi.sort()\n",
    "    lshvec = [node2vec[i] for i in lshi]\n",
    "    candidates = []\n",
    "    for i in range(len(lshi)):\n",
    "        predj = pred[j]\n",
    "        j+=1\n",
    "        if predj[0] == 0:\n",
    "            candidates += [lshi[i]]\n",
    "    count = 0.0\n",
    "    for y in candidates:\n",
    "        if y in truei:\n",
    "            count+=1\n",
    "    if len(candidates)>0:\n",
    "        results+=[count/len(candidates)]\n",
    "        lengths += [count/len(truei)]\n",
    "        overlap = len(set(truei) & set(lshi))\n",
    "        intersections += [overlap/len(truei)]\n",
    "print(np.mean(results))\n",
    "print(np.mean(lengths))\n",
    "print(np.mean(intersections))"
   ]
  }
 ],
 "metadata": {
  "kernelspec": {
   "display_name": "Python 3",
   "language": "python",
   "name": "python3"
  },
  "language_info": {
   "codemirror_mode": {
    "name": "ipython",
    "version": 3
   },
   "file_extension": ".py",
   "mimetype": "text/x-python",
   "name": "python",
   "nbconvert_exporter": "python",
   "pygments_lexer": "ipython3",
   "version": "3.5.2"
  }
 },
 "nbformat": 4,
 "nbformat_minor": 2
}
