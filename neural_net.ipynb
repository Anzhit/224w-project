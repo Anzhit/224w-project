{
 "cells": [
  {
   "cell_type": "code",
   "execution_count": 1,
   "metadata": {
    "collapsed": true
   },
   "outputs": [],
   "source": [
    "import tflearn\n",
    "import numpy as np\n",
    "from tflearn.layers.normalization import batch_normalization as batchnorm\n",
    "from sklearn.preprocessing import normalize\n",
    "data_train = np.load('data_train.npy')\n",
    "data_train = np.random.permutation(data_train)\n",
    "X_train = normalize(data_train[:,:len(data_train[0])-2])\n",
    "Y_train = data_train[:, len(data_train[0])-2:]"
   ]
  },
  {
   "cell_type": "code",
   "execution_count": 2,
   "metadata": {},
   "outputs": [
    {
     "name": "stdout",
     "output_type": "stream",
     "text": [
      "Training Step: 62499  | total loss: \u001b[1m\u001b[32m0.09047\u001b[0m\u001b[0m | time: 30.438s\n",
      "| Adam | epoch: 010 | loss: 0.09047 - acc: 0.9715 -- iter: 399936/400000\n",
      "Training Step: 62500  | total loss: \u001b[1m\u001b[32m0.09382\u001b[0m\u001b[0m | time: 30.443s\n",
      "| Adam | epoch: 010 | loss: 0.09382 - acc: 0.9681 -- iter: 400000/400000\n",
      "--\n"
     ]
    }
   ],
   "source": [
    "width0 = len(X_train[0])\n",
    "width1 = int(2*width0)\n",
    "width2 = int(width0/2)\n",
    "\n",
    "net = tflearn.input_data(shape=[None, width0])\n",
    "net = tflearn.fully_connected(batchnorm(net), width1, activation='relu')\n",
    "net = tflearn.fully_connected(batchnorm(net), width2, activation='relu')\n",
    "net = tflearn.fully_connected(net, 2, activation='softmax')\n",
    "net    = tflearn.regression(net)\n",
    "\n",
    "model = tflearn.DNN(net)\n",
    "model.fit(X_train, Y_train, n_epoch=10, batch_size=64, show_metric=True)"
   ]
  },
  {
   "cell_type": "code",
   "execution_count": 53,
   "metadata": {},
   "outputs": [
    {
     "name": "stdout",
     "output_type": "stream",
     "text": [
      "[0.97984749999999998]\n",
      "[0.97757249999999996]\n"
     ]
    }
   ],
   "source": [
    "data_test = np.load('data_test.npy')\n",
    "X_test = normalize(data_test[:,:len(data_test[0])-2])\n",
    "Y_test = data_test[:, len(data_test[0])-2:]\n",
    "\n",
    "\n",
    "print(model.evaluate(X_train, Y_train))\n",
    "print(model.evaluate(X_test, Y_test))"
   ]
  },
  {
   "cell_type": "code",
   "execution_count": null,
   "metadata": {
    "collapsed": true
   },
   "outputs": [],
   "source": [
    "y_train = []\n",
    "for i in range(len(Y_train)):\n",
    "    y_train += [Y_train[i][1]]\n",
    "\n",
    "from sklearn.linear_model import LogisticRegression\n",
    "skmodel = LogisticRegression()\n",
    "skmodel.fit(X_train, y_train)\n",
    "print(skmodel.score(X_train, y_train))"
   ]
  },
  {
   "cell_type": "code",
   "execution_count": 52,
   "metadata": {},
   "outputs": [
    {
     "name": "stdout",
     "output_type": "stream",
     "text": [
      "0.307331809134\n",
      "0.427821009062\n"
     ]
    }
   ],
   "source": [
    "#!/usr/bin/env python -W ignore::DeprecationWarning\n",
    "f = open(\"vec.emd\",\"r\")\n",
    "x=f.readline()\n",
    "dim=int(x.split()[1])\n",
    "numNodes=int(x.split()[0])\n",
    "\n",
    "node2vec = {}\n",
    "for _ in range(numNodes):\n",
    "    t=f.readline().split()\n",
    "    node2vec[int(t[0])]=np.array(list(map(float,t[1:])))\n",
    "    \n",
    "import pickle\n",
    "f = open('neighbor_data.pkl', 'rb')\n",
    "l = pickle.load(f, encoding='latin1')\n",
    "from scipy.spatial.distance import cosine\n",
    "import numpy as np\n",
    "it = 0\n",
    "results = []\n",
    "lengths = []\n",
    "for x in l:\n",
    "    myvec, truei, truevec, lshi, lshvec = x\n",
    "    lshi = list(lshi)\n",
    "    lshvec = [node2vec[i] for i in lshi]\n",
    "    candidates = []\n",
    "    for i in range(len(lshi)):\n",
    "        cos = cosine(myvec, lshvec[i])\n",
    "        diff = np.array(myvec)-np.array(lshvec[i])\n",
    "        X = normalize(np.append(diff, cos).reshape(-1,61))[0]\n",
    "        pred = model.predict_label(np.array([X]))\n",
    "        if pred[0][0] == 0:\n",
    "            candidates += [list(lshi)[i]]\n",
    "    count = 0.0\n",
    "    for y in candidates:\n",
    "        if y in truei:\n",
    "            count+=1\n",
    "    if len(candidates)>0:\n",
    "        results+=[count/len(candidates)]\n",
    "        lengths += [count/len(truei)]\n",
    "print(np.mean(results))\n",
    "print(np.mean(lengths))"
   ]
  },
  {
   "cell_type": "code",
   "execution_count": null,
   "metadata": {
    "collapsed": true
   },
   "outputs": [],
   "source": []
  }
 ],
 "metadata": {
  "kernelspec": {
   "display_name": "Python 3",
   "language": "python",
   "name": "python3"
  },
  "language_info": {
   "codemirror_mode": {
    "name": "ipython",
    "version": 3
   },
   "file_extension": ".py",
   "mimetype": "text/x-python",
   "name": "python",
   "nbconvert_exporter": "python",
   "pygments_lexer": "ipython3",
   "version": "3.5.2"
  }
 },
 "nbformat": 4,
 "nbformat_minor": 2
}
