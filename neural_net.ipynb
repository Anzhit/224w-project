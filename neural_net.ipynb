{
 "cells": [
  {
   "cell_type": "code",
   "execution_count": 2,
   "metadata": {},
   "outputs": [],
   "source": [
    "import tflearn\n",
    "import numpy as np\n",
    "from tflearn.layers.normalization import batch_normalization as batchnorm\n",
    "from sklearn.preprocessing import normalize\n",
    "data_train = np.load('data_train.npy')\n",
    "data_train = np.random.permutation(data_train)\n",
    "X_train = normalize(data_train[:,:len(data_train[0])-2])\n",
    "Y_train = data_train[:, len(data_train[0])-2:]"
   ]
  },
  {
   "cell_type": "code",
   "execution_count": 3,
   "metadata": {},
   "outputs": [
    {
     "name": "stdout",
     "output_type": "stream",
     "text": [
      "Training Step: 62499  | total loss: \u001b[1m\u001b[32m0.13435\u001b[0m\u001b[0m | time: 35.298s\n",
      "| Adam | epoch: 010 | loss: 0.13435 - acc: 0.9694 -- iter: 399936/400000\n",
      "Training Step: 62500  | total loss: \u001b[1m\u001b[32m0.13086\u001b[0m\u001b[0m | time: 35.303s\n",
      "| Adam | epoch: 010 | loss: 0.13086 - acc: 0.9694 -- iter: 400000/400000\n",
      "--\n"
     ]
    }
   ],
   "source": [
    "width0 = len(X_train[0])\n",
    "width1 = int(2*width0)\n",
    "width2 = int(width0/2)\n",
    "\n",
    "net = tflearn.input_data(shape=[None, width0])\n",
    "net = tflearn.fully_connected(batchnorm(net), width1, activation='relu')\n",
    "net = tflearn.fully_connected(batchnorm(net), width2, activation='relu')\n",
    "net = tflearn.fully_connected(net, 2, activation='softmax')\n",
    "net    = tflearn.regression(net)\n",
    "\n",
    "model = tflearn.DNN(net)\n",
    "model.fit(X_train, Y_train, n_epoch=10, batch_size=64, show_metric=True)"
   ]
  },
  {
   "cell_type": "code",
   "execution_count": 5,
   "metadata": {},
   "outputs": [
    {
     "name": "stdout",
     "output_type": "stream",
     "text": [
      "[0.97919750000000005]\n",
      "[0.97661750000000003]\n"
     ]
    }
   ],
   "source": [
    "data_test = np.load('data_test.npy')\n",
    "X_test = normalize(data_test[:,:len(data_test[0])-2])\n",
    "Y_test = data_test[:, len(data_test[0])-2:]\n",
    "\n",
    "\n",
    "print(model.evaluate(X_train, Y_train))\n",
    "print(model.evaluate(X_test, Y_test))\n"
   ]
  },
  {
   "cell_type": "code",
   "execution_count": null,
   "metadata": {},
   "outputs": [],
   "source": [
    "y_train = []\n",
    "for i in range(len(Y_train)):\n",
    "    y_train += [Y_train[i][1]]\n",
    "\n",
    "from sklearn.linear_model import LogisticRegression\n",
    "skmodel = LogisticRegression()\n",
    "skmodel.fit(X_train, y_train)\n",
    "print(skmodel.score(X_train, y_train))"
   ]
  }
 ],
 "metadata": {
  "kernelspec": {
   "display_name": "Python 3",
   "language": "python",
   "name": "python3"
  },
  "language_info": {
   "codemirror_mode": {
    "name": "ipython",
    "version": 3
   },
   "file_extension": ".py",
   "mimetype": "text/x-python",
   "name": "python",
   "nbconvert_exporter": "python",
   "pygments_lexer": "ipython3",
   "version": "3.5.2"
  }
 },
 "nbformat": 4,
 "nbformat_minor": 2
}
